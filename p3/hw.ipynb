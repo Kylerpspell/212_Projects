{
 "cells": [
  {
   "cell_type": "code",
   "execution_count": 25,
   "metadata": {},
   "outputs": [],
   "source": [
    "def func(n):\n",
    "\tif n==1:\n",
    "\t\treturn 2\n",
    "\telse:\n",
    "\t\tret = ((2*func(n-1))+n*2**n)\n",
    "\t\treturn ret"
   ]
  },
  {
   "cell_type": "code",
   "execution_count": 30,
   "metadata": {},
   "outputs": [
    {
     "name": "stdout",
     "output_type": "stream",
     "text": [
      "1 2 2\n",
      "2 12 12\n",
      "3 48 48\n",
      "4 160 160\n",
      "5 480 480\n",
      "6 1344 1344\n",
      "7 3584 3584\n",
      "8 9216 9216\n",
      "9 23040 23040\n",
      "10 56320 56320\n",
      "11 135168 135168\n",
      "12 319488 319488\n",
      "13 745472 745472\n",
      "14 1720320 1720320\n",
      "15 3932160 3932160\n",
      "16 8912896 8912896\n",
      "17 20054016 20054016\n",
      "18 44826624 44826624\n",
      "19 99614720 99614720\n"
     ]
    }
   ],
   "source": [
    "for i in range(1,20):\n",
    "\tval = int((2**i)*((i*(i+1)/2)))\n",
    "\tprint(i, func(i),val)"
   ]
  },
  {
   "cell_type": "code",
   "execution_count": null,
   "metadata": {},
   "outputs": [],
   "source": []
  }
 ],
 "metadata": {
  "interpreter": {
   "hash": "aee8b7b246df8f9039afb4144a1f6fd8d2ca17a180786b69acc140d282b71a49"
  },
  "kernelspec": {
   "display_name": "Python 3.9.6 64-bit",
   "name": "python3"
  },
  "language_info": {
   "codemirror_mode": {
    "name": "ipython",
    "version": 3
   },
   "file_extension": ".py",
   "mimetype": "text/x-python",
   "name": "python",
   "nbconvert_exporter": "python",
   "pygments_lexer": "ipython3",
   "version": "3.9.6"
  },
  "orig_nbformat": 4
 },
 "nbformat": 4,
 "nbformat_minor": 2
}
